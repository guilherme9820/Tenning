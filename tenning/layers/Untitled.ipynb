{
 "cells": [
  {
   "cell_type": "code",
   "execution_count": 1,
   "metadata": {},
   "outputs": [],
   "source": [
    "from cheby_filter import *\n",
    "import tensorflow as tf\n",
    "import numpy as np"
   ]
  },
  {
   "cell_type": "code",
   "execution_count": 2,
   "metadata": {},
   "outputs": [],
   "source": [
    "nsides = [8, 4]\n",
    "\n",
    "laplacians, _ = build_laplacians(nsides)\n",
    "out_channels, polynomial_degree = 2, 5\n",
    "\n",
    "L = tf.identity(laplacians[0])\n",
    "\n",
    "input_tensor = tf.random.uniform([4, L.shape[0], 1])\n",
    "\n",
    "shape = [polynomial_degree, out_channels]\n",
    "stddev = 1 / tf.sqrt((polynomial_degree + 0.5) / 2)\n",
    "initial = tf.initializers.TruncatedNormal(mean=0., stddev=stddev)(shape)\n",
    "cheby_weights = tf.Variable(initial_value=initial, trainable=False, dtype=tf.float32)"
   ]
  },
  {
   "cell_type": "code",
   "execution_count": 3,
   "metadata": {},
   "outputs": [],
   "source": [
    "conv = ChebyConv(L, out_channels, polynomial_degree)\n",
    "out = conv(input_tensor)"
   ]
  },
  {
   "cell_type": "code",
   "execution_count": 6,
   "metadata": {},
   "outputs": [
    {
     "data": {
      "text/plain": [
       "<tf.Tensor: id=161, shape=(4, 768, 2), dtype=float32, numpy=\n",
       "array([[[ 0.52577174, -1.142923  ],\n",
       "        [ 0.45599154, -1.296338  ],\n",
       "        [ 0.48667523, -1.0674155 ],\n",
       "        ...,\n",
       "        [ 0.2542232 , -1.0319811 ],\n",
       "        [ 0.49786073, -0.54845506],\n",
       "        [ 0.27706265, -0.830287  ]],\n",
       "\n",
       "       [[ 0.3775614 , -1.1297886 ],\n",
       "        [ 0.2924023 , -1.2535601 ],\n",
       "        [ 0.55140245, -1.0271134 ],\n",
       "        ...,\n",
       "        [ 0.37915367, -0.71392757],\n",
       "        [ 0.42078063, -1.2116393 ],\n",
       "        [ 0.4022783 , -1.0040522 ]],\n",
       "\n",
       "       [[ 0.45538098, -0.77721065],\n",
       "        [ 0.44686943, -1.0476742 ],\n",
       "        [ 0.51760745, -0.8344696 ],\n",
       "        ...,\n",
       "        [ 0.39104325, -1.0938368 ],\n",
       "        [ 0.5285448 , -1.0699135 ],\n",
       "        [ 0.3156898 , -0.87479186]],\n",
       "\n",
       "       [[ 0.16638619, -0.80898243],\n",
       "        [ 0.48086303, -1.0355089 ],\n",
       "        [ 0.13187072, -0.89411896],\n",
       "        ...,\n",
       "        [ 0.27168232, -0.49891347],\n",
       "        [ 0.4370315 , -1.1497971 ],\n",
       "        [ 0.4190995 , -1.0550495 ]]], dtype=float32)>"
      ]
     },
     "execution_count": 6,
     "metadata": {},
     "output_type": "execute_result"
    }
   ],
   "source": [
    "out"
   ]
  }
 ],
 "metadata": {
  "kernelspec": {
   "display_name": "Python 3",
   "language": "python",
   "name": "python3"
  },
  "language_info": {
   "codemirror_mode": {
    "name": "ipython",
    "version": 3
   },
   "file_extension": ".py",
   "mimetype": "text/x-python",
   "name": "python",
   "nbconvert_exporter": "python",
   "pygments_lexer": "ipython3",
   "version": "3.6.9"
  }
 },
 "nbformat": 4,
 "nbformat_minor": 4
}
